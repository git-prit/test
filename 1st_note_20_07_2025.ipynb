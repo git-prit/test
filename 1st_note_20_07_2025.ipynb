{
  "nbformat": 4,
  "nbformat_minor": 0,
  "metadata": {
    "colab": {
      "provenance": [],
      "authorship_tag": "ABX9TyMXEAOr/5VE/XlwSdOdqa0m",
      "include_colab_link": true
    },
    "kernelspec": {
      "name": "python3",
      "display_name": "Python 3"
    },
    "language_info": {
      "name": "python"
    }
  },
  "cells": [
    {
      "cell_type": "markdown",
      "metadata": {
        "id": "view-in-github",
        "colab_type": "text"
      },
      "source": [
        "<a href=\"https://colab.research.google.com/github/git-prit/test/blob/master/1st_note_20_07_2025.ipynb\" target=\"_parent\"><img src=\"https://colab.research.google.com/assets/colab-badge.svg\" alt=\"Open In Colab\"/></a>"
      ]
    },
    {
      "cell_type": "code",
      "execution_count": 1,
      "metadata": {
        "colab": {
          "base_uri": "https://localhost:8080/"
        },
        "id": "iciWTQx7AnHE",
        "outputId": "138b496d-22b1-4e02-9cc8-d8a81d0c0c0d"
      },
      "outputs": [
        {
          "output_type": "stream",
          "name": "stdout",
          "text": [
            "Enter your name: Prit\n",
            "Hello Prit\n"
          ]
        }
      ],
      "source": [
        "# prompt: Please generate a python code to print hello user with the input given\n",
        "\n",
        "name = input(\"Enter your name: \")\n",
        "print(\"Hello \" + name)"
      ]
    }
  ]
}